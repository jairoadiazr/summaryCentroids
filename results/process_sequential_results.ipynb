{
 "cells": [
  {
   "cell_type": "code",
   "execution_count": 1,
   "id": "c6c5b3a2-28d6-4da2-9d00-212644908488",
   "metadata": {},
   "outputs": [
    {
     "name": "stdout",
     "output_type": "stream",
     "text": [
      "dict_keys([0, 1, 2, 3])\n",
      "dict_keys([0, 1, 2, 3, 4])\n",
      "dict_keys([0, 1, 2, 3, 4])\n",
      "dict_keys([0, 1, 2, 3, 4])\n"
     ]
    }
   ],
   "source": [
    "import pickle\n",
    "\n",
    "for year in [2020,2021,2022,2023]:\n",
    "    results_dict = {}\n",
    "    with open(\"sims_stackexchange_results_\" + str(year) + \".pkl\", \"rb\") as f:\n",
    "        results_dict = pickle.load(f)\n",
    "    print(results_dict.keys())"
   ]
  },
  {
   "cell_type": "code",
   "execution_count": 23,
   "id": "63904542-d71c-4383-8082-b51e70102858",
   "metadata": {},
   "outputs": [
    {
     "data": {
      "text/plain": [
       "(35, 1536)"
      ]
     },
     "execution_count": 23,
     "metadata": {},
     "output_type": "execute_result"
    }
   ],
   "source": [
    "results_dict[0][10][1]['final_centroids'].shape"
   ]
  },
  {
   "cell_type": "code",
   "execution_count": null,
   "id": "5d75b458-2b37-45c1-b52f-bffc50c39b48",
   "metadata": {},
   "outputs": [],
   "source": [
    "import numpy as np\n",
    "results_summary = {}\n",
    "for year in [2020,2021,2022,2023]:\n",
    "    results_summary[year] = {}\n",
    "    results_dict = {}\n",
    "    with open(\"sims_stackexchange_results_\" + str(year) + \".pkl\", \"rb\") as f:\n",
    "        results_dict = pickle.load(f)\n",
    "    \n",
    "    for method in ['minibatchkmeans','seqminibatchkmeans','kmeans']:   \n",
    "        results_summary[year][method] = {}\n",
    "        acc = []\n",
    "        nmi = []\n",
    "        cen = []\n",
    "        \n",
    "        for i in results_dict.keys():\n",
    "    \n",
    "            acc.append(results_dict[i][method]['results'][0])\n",
    "            nmi.append(results_dict[i][method]['results'][1])\n",
    "            cen.append(results_dict[i][method]['results'][2])\n",
    "            \n",
    "        results_summary[year][method] = list(np.round([100*np.mean(acc), 100*np.mean(nmi)],1)) + [np.round(np.mean(cen),3)]\n",
    "        \n",
    "    for force in [10, 50]:\n",
    "            for niter in [1,5]:\n",
    "                acc = []\n",
    "                nmi = []\n",
    "                cen = []\n",
    "                \n",
    "                for i in results_dict.keys():\n",
    "                    try:\n",
    "                        cur_results = results_dict[i][force][niter]['results']\n",
    "                        acc.append(cur_results[0])\n",
    "                        nmi.append(cur_results[1])\n",
    "                        cen.append(cur_results[2])\n",
    "                    except:\n",
    "                        continue\n",
    "                results_summary[year][str(force) + '-' + str(niter)] = list(np.round([100*np.mean(acc), 100*np.mean(nmi)],1)) + [np.round(np.mean(cen),3)]"
   ]
  },
  {
   "cell_type": "code",
   "execution_count": null,
   "id": "a09d6a70-95f0-47e1-9fef-7ff213044244",
   "metadata": {},
   "outputs": [],
   "source": [
    "line = {}\n",
    "    \n",
    "for year in [2020,2021,2022,2023]:\n",
    "\n",
    "    acc = []\n",
    "    nmi = []\n",
    "    cen = []\n",
    "    method_names = []\n",
    "    for method in ['kmeans', 'minibatchkmeans','seqminibatchkmeans','50-1','50-5','10-1','10-5',]:\n",
    "        cur_results = results_summary[year][method]\n",
    "        acc.append(cur_results[0])\n",
    "        nmi.append(cur_results[1])\n",
    "        cen.append(cur_results[2])\n",
    "        if method == '10-1':\n",
    "            cur_method = 'mini-batch k-LLMmeans-FS1'\n",
    "        elif method == '10-5':\n",
    "            cur_method = 'mini-batch k-LLMmeans-FS5'\n",
    "        elif method == '50-1':\n",
    "            cur_method = 'mini-batch k-LLMmeans-1'\n",
    "        elif method == '50-5':\n",
    "            cur_method = 'mb k-LLMmeans-5'\n",
    "        elif method == 'kmeans':\n",
    "            cur_method = 'k-means'\n",
    "        elif method == 'minibatchkmeans':\n",
    "            cur_method = 'mini-batch k-means'\n",
    "        elif method == 'seqminibatchkmeans':\n",
    "            cur_method = 'seq. mini-batch k-means'\n",
    "        method_names.append(cur_method)\n",
    "\n",
    "    # Find the maximum value\n",
    "    val = max(acc)\n",
    "    acc = [f\"{{\\\\bf {x}}}\" if x == val else x for x in acc]\n",
    "\n",
    "    val = max(nmi)\n",
    "    nmi = [f\"{{\\\\bf {x}}}\" if x == val else x for x in nmi]\n",
    "\n",
    "    val = min(cen)\n",
    "    cen = [f\"{{\\\\bf {x}}}\" if x == val else x for x in cen]\n",
    "    \n",
    "    for ii in range(len(method_names)):\n",
    "        cur_method = method_names[ii]\n",
    "        if year == 2020:\n",
    "            if cur_method == 'k-means':\n",
    "                line[cur_method] = cur_method + '&' + str(nmi[ii]) + '&' + str(cen[ii])\n",
    "            else:\n",
    "                line[cur_method] = cur_method + '&' + str(nmi[ii]) + '&' + str(cen[ii])\n",
    "        else:\n",
    "            line[cur_method] = line[cur_method] + '&&' + str(nmi[ii]) + '&' + str(cen[ii])\n",
    "\n",
    "text = \"\"\n",
    "for ii in range(len(method_names)):\n",
    "    cur_method = method_names[ii]\n",
    "    text = text + line[cur_method] + '\\\\\\\\\\n'\n",
    "print(text)          "
   ]
  }
 ],
 "metadata": {
  "kernelspec": {
   "display_name": "Python [conda env:base] *",
   "language": "python",
   "name": "conda-base-py"
  },
  "language_info": {
   "codemirror_mode": {
    "name": "ipython",
    "version": 3
   },
   "file_extension": ".py",
   "mimetype": "text/x-python",
   "name": "python",
   "nbconvert_exporter": "python",
   "pygments_lexer": "ipython3",
   "version": "3.12.7"
  }
 },
 "nbformat": 4,
 "nbformat_minor": 5
}
