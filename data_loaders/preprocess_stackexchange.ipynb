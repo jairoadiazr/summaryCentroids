{
 "cells": [
  {
   "cell_type": "code",
   "execution_count": 21,
   "id": "fdab7991-fc52-4c29-ac19-3754e31e45fe",
   "metadata": {},
   "outputs": [],
   "source": [
    "import json, pickle\n",
    "import pandas as pd\n",
    "import importlib.util\n",
    "\n",
    "file_path = \"../kLLMmeans.py\"  # Adjust path as needed\n",
    "\n",
    "spec = importlib.util.spec_from_file_location(\"kLLMmeans\", file_path)\n",
    "kLLMmeans = importlib.util.module_from_spec(spec)\n",
    "spec.loader.exec_module(kLLMmeans)"
   ]
  },
  {
   "cell_type": "code",
   "execution_count": 29,
   "id": "bc022b4c-3152-4b94-b741-ea360df82807",
   "metadata": {},
   "outputs": [
    {
     "name": "stdout",
     "output_type": "stream",
     "text": [
      "(499359, 4)\n",
      "(205943, 4)\n"
     ]
    }
   ],
   "source": [
    "df = pd.read_csv('raw_stackexchange.csv')\n",
    "print(df.shape)\n",
    "\n",
    "groups_df = df[df.Year == 2023].groupby('Label').count().reset_index()\n",
    "selected = list(groups_df[groups_df.Year>500].Label)\n",
    "df = df[(df['Label'].isin(selected))&(df.Year>=2020)].reset_index(drop = True)\n",
    "df.to_csv('clean_stackexchange.csv', index = False)\n",
    "\n",
    "print(df.shape)"
   ]
  },
  {
   "cell_type": "code",
   "execution_count": 31,
   "id": "409f1aaf-156c-471e-a883-9ec67f89d0d8",
   "metadata": {},
   "outputs": [
    {
     "data": {
      "text/html": [
       "<div>\n",
       "<style scoped>\n",
       "    .dataframe tbody tr th:only-of-type {\n",
       "        vertical-align: middle;\n",
       "    }\n",
       "\n",
       "    .dataframe tbody tr th {\n",
       "        vertical-align: top;\n",
       "    }\n",
       "\n",
       "    .dataframe thead th {\n",
       "        text-align: right;\n",
       "    }\n",
       "</style>\n",
       "<table border=\"1\" class=\"dataframe\">\n",
       "  <thead>\n",
       "    <tr style=\"text-align: right;\">\n",
       "      <th></th>\n",
       "      <th>Year</th>\n",
       "      <th>Text</th>\n",
       "      <th>CreationDate</th>\n",
       "      <th>Label</th>\n",
       "    </tr>\n",
       "  </thead>\n",
       "  <tbody>\n",
       "    <tr>\n",
       "      <th>0</th>\n",
       "      <td>2020</td>\n",
       "      <td>69147</td>\n",
       "      <td>69147</td>\n",
       "      <td>69147</td>\n",
       "    </tr>\n",
       "    <tr>\n",
       "      <th>1</th>\n",
       "      <td>2021</td>\n",
       "      <td>54322</td>\n",
       "      <td>54322</td>\n",
       "      <td>54322</td>\n",
       "    </tr>\n",
       "    <tr>\n",
       "      <th>2</th>\n",
       "      <td>2022</td>\n",
       "      <td>43521</td>\n",
       "      <td>43521</td>\n",
       "      <td>43521</td>\n",
       "    </tr>\n",
       "    <tr>\n",
       "      <th>3</th>\n",
       "      <td>2023</td>\n",
       "      <td>38953</td>\n",
       "      <td>38953</td>\n",
       "      <td>38953</td>\n",
       "    </tr>\n",
       "  </tbody>\n",
       "</table>\n",
       "</div>"
      ],
      "text/plain": [
       "   Year   Text  CreationDate  Label\n",
       "0  2020  69147         69147  69147\n",
       "1  2021  54322         54322  54322\n",
       "2  2022  43521         43521  43521\n",
       "3  2023  38953         38953  38953"
      ]
     },
     "execution_count": 31,
     "metadata": {},
     "output_type": "execute_result"
    }
   ],
   "source": [
    "num_clusters = len(df.Label.unique()) # 35\n",
    "df.groupby('Year').count().reset_index()"
   ]
  },
  {
   "cell_type": "code",
   "execution_count": 33,
   "id": "f97e3276-9504-4985-88b1-dff6ec19b964",
   "metadata": {},
   "outputs": [
    {
     "data": {
      "text/plain": [
       "35"
      ]
     },
     "execution_count": 33,
     "metadata": {},
     "output_type": "execute_result"
    }
   ],
   "source": [
    "num_clusters"
   ]
  },
  {
   "cell_type": "code",
   "execution_count": null,
   "id": "ee54e8f7-f1d0-44d7-9c96-4c21f3e89175",
   "metadata": {},
   "outputs": [],
   "source": [
    "for year in [2020,2021,2022,2023]:\n",
    "    print('-' * 20)\n",
    "    print(year)\n",
    "    \n",
    "    cur_df = df[df.Year == year].copy()\n",
    "    documents = cur_df.Text\n",
    "    \n",
    "    for emb_type in ['openai']:\n",
    "        data_dict = {}\n",
    "        \n",
    "        print(emb_type)\n",
    "        embeddings = kLLMmeans.get_embeddings(list(documents), emb_type=emb_type, instructor_prompt = \"\")\n",
    "    \n",
    "        data_dict['data'] = cur_df\n",
    "        data_dict['num_clusters'] = num_clusters\n",
    "        data_dict['embeddings'] = embeddings\n",
    "        \n",
    "        with open(\"../processed_data/data_stackexchange_\" + emb_type + \"_\" + str(year) + \".pkl\", \"wb\") as f:\n",
    "            pickle.dump(data_dict, f)"
   ]
  },
  {
   "cell_type": "code",
   "execution_count": null,
   "id": "8f8441c8-c72d-40c7-9157-4ee3b1035bd0",
   "metadata": {},
   "outputs": [],
   "source": [
    "for year in [2020,2021,2022,2023]:\n",
    "    print('-' * 20)\n",
    "    print(year)\n",
    "    \n",
    "    cur_df = df[df.Year == year].copy()\n",
    "    documents = cur_df.Text\n",
    "    \n",
    "    for emb_type in ['openai']:\n",
    "        sentences_dict = {}\n",
    "       \n",
    "        sents, index_map = NLPsummary.build_sentence_corpus(documents)\n",
    "        print(\"sentence tokenizer ready\")\n",
    "        X, _ = NLPsummary.embed_sentences(sents, emb_type = emb_type)\n",
    "        \n",
    "        text_sentences = {i: [] for i in range(len(documents))}\n",
    "        for i in range(len(sents)):\n",
    "            cur_index = index_map[i][0]\n",
    "            text_sentences[cur_index].append([sents[i],X[i]])\n",
    "        sentences_dict[emb_type] = text_sentences\n",
    "        \n",
    "        with open(\"../processed_data/data_sentences_stackexchange_\" + emb_type + \"_\" + str(year) + \".pkl\", \"wb\") as f:\n",
    "            pickle.dump(sentences_dict, f)"
   ]
  }
 ],
 "metadata": {
  "kernelspec": {
   "display_name": "Python [conda env:base] *",
   "language": "python",
   "name": "conda-base-py"
  },
  "language_info": {
   "codemirror_mode": {
    "name": "ipython",
    "version": 3
   },
   "file_extension": ".py",
   "mimetype": "text/x-python",
   "name": "python",
   "nbconvert_exporter": "python",
   "pygments_lexer": "ipython3",
   "version": "3.12.7"
  }
 },
 "nbformat": 4,
 "nbformat_minor": 5
}
